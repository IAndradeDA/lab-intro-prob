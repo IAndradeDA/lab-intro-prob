{
 "cells": [
  {
   "cell_type": "markdown",
   "metadata": {},
   "source": [
    "# Introduction To Probability\n",
    "## Challenge 1\n",
    "\n",
    "A and B are events of a probability space with $(\\omega, \\sigma, P)$ such that $P(A) = 0.3$, $P(B) = 0.6$ and $P(A \\cap B) = 0.1$\n",
    "\n",
    "Which of the following statements are false?\n",
    "* $P(A \\cup B) = 0.6$\n",
    "* $P(A \\cap B^{C}) = 0.2$\n",
    "* $P(A \\cap (B \\cup B^{C})) = 0.4$\n",
    "* $P(A^{C} \\cap B^{C}) = 0.3$\n",
    "* $P((A \\cap B)^{C}) = 0.9$"
   ]
  },
  {
   "cell_type": "code",
   "execution_count": null,
   "metadata": {},
   "outputs": [],
   "source": [
    "\"\"\"\n",
    "your solution here\n",
    "\n",
    "A x B = {(a,b),(a,b'),(a',b),(a',b')} = 1\n",
    "\n",
    "P(A) = {(a,b), (a,b')} = 0.3\n",
    "P(B) = {(a,b), (a',b)} = 0.6\n",
    "P(A and B) = {(a,b)} = 0.1\n",
    "\n",
    "P(B') = {(a,b'), (a',b')} 1 - 0.6 = 0.4\n",
    "p(A') = {(a',b),(a',b')} = 1 - 0.3 = 0.7\n",
    "P(A' and B') = {(a',b')} = 1 - (a,b) - (a,b') - (a',b) = 1 - 0.3 - (0.6-0.1) = 0.2\n",
    "\n",
    "\n",
    "1) FALSE \n",
    "P(A or B) = P(A) + P(B) - P(A and B) = 0.3 + 0.6 - 0.1 = 0.8\n",
    "\n",
    "2) TRUE\n",
    "P(A and B') = {(a,b')} = 0.3 - 0.1 = 0.2\n",
    "\n",
    "3) FALSE\n",
    "P(A and (B or B')) = P(A) = 0.3\n",
    "\n",
    "4) FALSE\n",
    "P(A' and B') = 0.2\n",
    "\n",
    "5) TRUE\n",
    "P((A and B)') = 1 - P(A and B) = 1 - 0.1 = 0.9\n",
    "\n",
    "\"\"\""
   ]
  },
  {
   "cell_type": "markdown",
   "metadata": {},
   "source": [
    "## Challenge 2\n",
    "There is a box with 10 white balls, 12 red balls and 8 black balls. Calculate the probability of:\n",
    "* Taking a white ball out.\n",
    "* Taking a white ball out after taking a black ball out.\n",
    "* Taking a red ball out after taking a black and a red ball out.\n",
    "* Taking a red ball out after taking a black and a red ball out with reposition.\n",
    "\n",
    "**Hint**: Reposition means putting back the ball into the box after taking it out."
   ]
  },
  {
   "cell_type": "code",
   "execution_count": null,
   "metadata": {},
   "outputs": [],
   "source": [
    "\"\"\"\n",
    "your solution here\n",
    "w = 10\n",
    "r = 12\n",
    "b = 8\n",
    "Total = 30\n",
    "\n",
    "* Taking a white ball out.\n",
    "p= 10/30 = 0.33\n",
    "\n",
    "* Taking a white ball out after taking a black ball out.\n",
    "p = 10/30 = 0.33\n",
    "\n",
    "* Taking a red ball out after taking a black and a red ball out.\n",
    "P = 10/30 = 0.33\n",
    "\n",
    "* Taking a red ball out after taking a black and a red ball out with reposition.\n",
    "p = 10/28 = 0.36\n",
    "\n",
    "\"\"\""
   ]
  },
  {
   "cell_type": "markdown",
   "metadata": {},
   "source": [
    "## Challenge 3\n",
    "\n",
    "You are planning to go on a picnic today but the morning is cloudy. You hate rain so you don't know whether to go out or stay home! To help you make a decision, you gather the following data about rainy days:\n",
    "\n",
    "* Knowing that it is a rainy day, the probability of cloudy is 50%!\n",
    "* The probability of any day (rainy or not) starting off cloudy is 40%. \n",
    "* This month is usually dry so only 3 of 30 days (10%) tend to be rainy. \n",
    "\n",
    "What is the probability of rain, given the day started cloudy?"
   ]
  },
  {
   "cell_type": "code",
   "execution_count": 1,
   "metadata": {},
   "outputs": [
    {
     "name": "stdout",
     "output_type": "stream",
     "text": [
      "The probability of rain, given the day started cloudy is  0.125\n"
     ]
    }
   ],
   "source": [
    "\"\"\"\n",
    "your solution here\n",
    "\n",
    "P(C\\R) {cloudy \\ knowing is a rainy day} = 0.5\n",
    "P(C) {starting cloudy} = 0.4\n",
    "P(R) {rainy day/month} = 0.1\n",
    "\n",
    "P(R\\C) = ?\n",
    "\n",
    "P(R\\C) = (P(C\\R) * P(R)) / P(C)\n",
    "\"\"\"\n",
    "print(\"The probability of rain, given the day started cloudy is \", 0.5*0.1/0.4)"
   ]
  },
  {
   "cell_type": "markdown",
   "metadata": {},
   "source": [
    "## Challenge 4\n",
    "\n",
    "One thousand people were asked through a telephone survey whether they thought more street lighting is needed at night or not.\n",
    "\n",
    "Out of the 480 men that answered the survey, 324 said yes and 156 said no. On the other hand, out of the 520 women that answered, 351 said yes and 169 said no. \n",
    "\n",
    "We wonder if men and women have a different opinions about the street lighting matter. Is gender relevant or irrelevant to the question?\n",
    "\n",
    "Consider the following events:\n",
    "- The answer is yes, so the person that answered thinks that more street lighting is needed.\n",
    "- The person who answered is a man.\n",
    "\n",
    "We want to know if these events are independent, that is, if the fact of wanting more light depends on whether one is male or female. Are these events independent or not?\n",
    "\n",
    "**Hint**: To clearly compare the answers by gender, it is best to place the data in a table."
   ]
  },
  {
   "cell_type": "code",
   "execution_count": 2,
   "metadata": {},
   "outputs": [
    {
     "data": {
      "text/html": [
       "<div>\n",
       "<style scoped>\n",
       "    .dataframe tbody tr th:only-of-type {\n",
       "        vertical-align: middle;\n",
       "    }\n",
       "\n",
       "    .dataframe tbody tr th {\n",
       "        vertical-align: top;\n",
       "    }\n",
       "\n",
       "    .dataframe thead th {\n",
       "        text-align: right;\n",
       "    }\n",
       "</style>\n",
       "<table border=\"1\" class=\"dataframe\">\n",
       "  <thead>\n",
       "    <tr style=\"text-align: right;\">\n",
       "      <th></th>\n",
       "      <th>Y</th>\n",
       "      <th>N</th>\n",
       "    </tr>\n",
       "  </thead>\n",
       "  <tbody>\n",
       "    <tr>\n",
       "      <th>M</th>\n",
       "      <td>324</td>\n",
       "      <td>156</td>\n",
       "    </tr>\n",
       "    <tr>\n",
       "      <th>F</th>\n",
       "      <td>351</td>\n",
       "      <td>169</td>\n",
       "    </tr>\n",
       "  </tbody>\n",
       "</table>\n",
       "</div>"
      ],
      "text/plain": [
       "     Y    N\n",
       "M  324  156\n",
       "F  351  169"
      ]
     },
     "execution_count": 2,
     "metadata": {},
     "output_type": "execute_result"
    }
   ],
   "source": [
    "# your code here\n",
    "n = 1000\n",
    "\n",
    "men_answered = 480\n",
    "men_answered_yes = 324\n",
    "men_answered_no = 156\n",
    "\n",
    "women_answered = 520\n",
    "women_answered_yes = 351\n",
    "women_answered_no = 169\n",
    "\n",
    "import pandas as pd\n",
    "data = pd.DataFrame({\"Y\":[\"324\",\"351\"],\"N\":[\"156\",\"169\"]}, index=[\"M\",\"F\"])\n",
    "data"
   ]
  },
  {
   "cell_type": "code",
   "execution_count": 13,
   "metadata": {},
   "outputs": [
    {
     "name": "stdout",
     "output_type": "stream",
     "text": [
      "P(Y\\M) = P(M and Y) / P(M) =  0.675\n",
      "P(Y) = 0.675\n",
      "They are independents\n"
     ]
    }
   ],
   "source": [
    "\"\"\"\n",
    "your solution here\n",
    "\n",
    "if independent --> P(Y|M) = P(Y)\n",
    "\n",
    "\"\"\"\n",
    "print(\"P(Y\\M) = P(M and Y) / P(M) = \", 324/1000 / ((324+156)/1000))\n",
    "print(\"P(Y) =\", (324+351)/1000)"
   ]
  },
  {
   "cell_type": "code",
   "execution_count": null,
   "metadata": {},
   "outputs": [],
   "source": [
    "# They are independent"
   ]
  }
 ],
 "metadata": {
  "kernelspec": {
   "display_name": "Python 3.9.13 ('ironhack')",
   "language": "python",
   "name": "python3"
  },
  "language_info": {
   "codemirror_mode": {
    "name": "ipython",
    "version": 3
   },
   "file_extension": ".py",
   "mimetype": "text/x-python",
   "name": "python",
   "nbconvert_exporter": "python",
   "pygments_lexer": "ipython3",
   "version": "3.9.13"
  },
  "vscode": {
   "interpreter": {
    "hash": "b52c70b0c498f74ff157f351076d810f77b2bb2ce7a98fe9a6e097a72ab01d5a"
   }
  }
 },
 "nbformat": 4,
 "nbformat_minor": 2
}
